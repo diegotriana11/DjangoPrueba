{
 "cells": [
  {
   "cell_type": "markdown",
   "metadata": {},
   "source": [
    "# Prueba Tecnica"
   ]
  },
  {
   "cell_type": "markdown",
   "metadata": {},
   "source": [
    "#### Diego Diaz Triana"
   ]
  },
  {
   "cell_type": "markdown",
   "metadata": {},
   "source": [
    "**Ejercicio:** Realizar una aplicación en Python que reciba el número de una\n",
    "columna y diga cuál es su conversión en letras. De la misma manera que lo\n",
    "hace Excel, PERO adicionando la letra “Ñ”"
   ]
  },
  {
   "cell_type": "markdown",
   "metadata": {},
   "source": [
    "## LOGICA"
   ]
  },
  {
   "cell_type": "markdown",
   "metadata": {},
   "source": [
    "**Contexto:** En Excel las columnas están organizadas por medio de letras, en\n",
    "donde la primera columna es la letra “A”, la segunda la “B”, la tercera la “C”,\n",
    "sin embargo el alfabeto es finito y por esto la siguiente columna a la “Z” es la\n",
    "columna “AA” y le siguen la “AB”, “AC”,”AD”,... ”AZ”,”BA”,”BB”,”BC”,”BD”,...,\n",
    "“ZZ”,”AAA”,”AAB”,”AAC”... etc."
   ]
  },
  {
   "cell_type": "markdown",
   "metadata": {},
   "source": [
    "**Ejercicio:** Realizar una aplicación en Python que reciba el número de una\n",
    "columna y diga cuál es su conversión en letras. De la misma manera que lo\n",
    "hace Excel, PERO adicionando la letra “Ñ”"
   ]
  },
  {
   "cell_type": "code",
   "execution_count": 2,
   "metadata": {},
   "outputs": [
    {
     "name": "stdout",
     "output_type": "stream",
     "text": [
      "Ingrese un número entero: 15\n",
      "Ñ\n"
     ]
    }
   ],
   "source": [
    "def lee_entero(): # se define una funcion\n",
    "    \"\"\" ESta funcion tiene como objetivo validar si el dato recibido es int \"\"\"\n",
    "    while True: \n",
    "        valor = input(\"Ingrese un número entero: \") # se solicita ingresar un entero con el metodo raw?input que valida el tipo int\n",
    "        try:\n",
    "            valor = int(valor) # Se define la variable una vez se haya validado  \n",
    "            if valor > 1000: # se condiciona que el ingreso de la variable no sea mayor al total de columnas en excel\n",
    "                print(\"Error, el valor ingresado debe ser menor a 16.384\") # se imprime el mensaje de error si el valor ingresado es mayor a 50\n",
    "                #return valor\n",
    "            else:\n",
    "                return valor # si el valor es menor a 50, se retorna el valor ingresado\n",
    "        except ValueError:\n",
    "            print(\"Por favor ingrese un número entero.\") # se imprime el mensaje para que el usuario ingrese el valor\n",
    "\n",
    "def getLetter(position):    \n",
    "    abcedario = \"ABCDEFGHIJKLMNÑOPQRSTUVWXYZ\"\n",
    "    if position <= len(abcedario):\n",
    "        letter = abcedario[position-1]\n",
    "        print(letter)\n",
    "    else:\n",
    "        position_alt =position//len(abcedario)\n",
    "        alphabet_number = position_alt\n",
    "        position_letter = position - (len(abcedario)*alphabet_number)\n",
    "        print('{}{}'.format(abcedario[position_alt - 1],abcedario[position_letter-1]))\n",
    "\n",
    "        \n",
    "position = lee_entero()\n",
    "getLetter(position)\n"
   ]
  },
  {
   "cell_type": "code",
   "execution_count": 3,
   "metadata": {
    "scrolled": true
   },
   "outputs": [
    {
     "name": "stdout",
     "output_type": "stream",
     "text": [
      "\n",
      "Scrip desarrolllado por \n",
      "Diego Diaz Triana \n",
      "\n"
     ]
    }
   ],
   "source": [
    "print(\"\\nScrip desarrolllado por \\nDiego Diaz Triana \\n\") # impresion de los datos"
   ]
  }
 ],
 "metadata": {
  "kernelspec": {
   "display_name": "Python 3",
   "language": "python",
   "name": "python3"
  },
  "language_info": {
   "codemirror_mode": {
    "name": "ipython",
    "version": 3
   },
   "file_extension": ".py",
   "mimetype": "text/x-python",
   "name": "python",
   "nbconvert_exporter": "python",
   "pygments_lexer": "ipython3",
   "version": "3.7.1"
  }
 },
 "nbformat": 4,
 "nbformat_minor": 2
}
